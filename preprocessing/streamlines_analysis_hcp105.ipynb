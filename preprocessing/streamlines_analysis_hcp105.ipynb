{
 "cells": [
  {
   "cell_type": "code",
   "execution_count": null,
   "metadata": {},
   "outputs": [],
   "source": [
    "from dataset_handlers import HCPHandler\n",
    "import matplotlib.pyplot as plt\n",
    "\n",
    "import numpy as np\n",
    "\n",
    "import seaborn as sns\n",
    "\n",
    "import torch\n",
    "import torch.nn as nn\n",
    "import torch.nn.functional as F\n",
    "import torch.optim as optim\n",
    "from collections import defaultdict\n",
    "# from dataset_handlers import (FiberCupHandler, \n",
    "#                               HCPHandler, \n",
    "#                               TractoinfernoHandler, \n",
    "#                               HCP_Without_CC_Handler)\n",
    "\n",
    "from concurrent.futures import ThreadPoolExecutor, as_completed\n",
    "from dipy.tracking.streamline import select_random_set_of_streamlines\n",
    "from nibabel.streamlines.array_sequence import ArraySequence\n",
    "from dipy.io.streamline import load_trk, save_trk\n",
    "from tqdm import tqdm\n",
    "\n",
    "from dipy.tracking.streamline import select_random_set_of_streamlines\n",
    "import plotly.graph_objects as go\n",
    "from nibabel.streamlines.array_sequence import ArraySequence\n",
    "from dipy.io.streamline import save_trk\n",
    "\n",
    "import os\n",
    "from dipy.io.streamline import load_trk"
   ]
  },
  {
   "cell_type": "code",
   "execution_count": null,
   "metadata": {},
   "outputs": [],
   "source": []
  }
 ],
 "metadata": {
  "language_info": {
   "name": "python"
  }
 },
 "nbformat": 4,
 "nbformat_minor": 2
}
